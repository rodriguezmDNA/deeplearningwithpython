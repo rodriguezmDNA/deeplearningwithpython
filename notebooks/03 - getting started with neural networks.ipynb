{
 "cells": [
  {
   "cell_type": "code",
   "execution_count": 1,
   "id": "afcd2ec2",
   "metadata": {},
   "outputs": [
    {
     "name": "stderr",
     "output_type": "stream",
     "text": [
      "Using TensorFlow backend.\n"
     ]
    }
   ],
   "source": [
    "from keras.datasets import imdb"
   ]
  },
  {
   "cell_type": "markdown",
   "id": "42a2b13b",
   "metadata": {},
   "source": [
    "# IMDB"
   ]
  },
  {
   "cell_type": "code",
   "execution_count": 2,
   "id": "c951bc32",
   "metadata": {},
   "outputs": [
    {
     "name": "stdout",
     "output_type": "stream",
     "text": [
      "Downloading data from https://s3.amazonaws.com/text-datasets/imdb.npz\n",
      "17465344/17464789 [==============================] - 1s 0us/step\n"
     ]
    },
    {
     "name": "stderr",
     "output_type": "stream",
     "text": [
      "/Users/leonjdaeim/opt/miniconda3/envs/deeplearn/lib/python3.7/site-packages/keras/datasets/imdb.py:101: VisibleDeprecationWarning: Creating an ndarray from ragged nested sequences (which is a list-or-tuple of lists-or-tuples-or ndarrays with different lengths or shapes) is deprecated. If you meant to do this, you must specify 'dtype=object' when creating the ndarray.\n",
      "  x_train, y_train = np.array(xs[:idx]), np.array(labels[:idx])\n",
      "/Users/leonjdaeim/opt/miniconda3/envs/deeplearn/lib/python3.7/site-packages/keras/datasets/imdb.py:102: VisibleDeprecationWarning: Creating an ndarray from ragged nested sequences (which is a list-or-tuple of lists-or-tuples-or ndarrays with different lengths or shapes) is deprecated. If you meant to do this, you must specify 'dtype=object' when creating the ndarray.\n",
      "  x_test, y_test = np.array(xs[idx:]), np.array(labels[idx:])\n"
     ]
    }
   ],
   "source": [
    "(train_data, train_labels), (test_data, test_labels) = imdb.load_data(num_words=10000)"
   ]
  },
  {
   "cell_type": "code",
   "execution_count": 7,
   "id": "310fafb3",
   "metadata": {},
   "outputs": [
    {
     "name": "stdout",
     "output_type": "stream",
     "text": [
      "[1, 14, 22, 16, 43, 530, 973, 1622, 1385, 65, 458, 4468, 66, 3941, 4, 173, 36, 256, 5, 25]\n"
     ]
    }
   ],
   "source": [
    "print(train_data[0][0:20])"
   ]
  },
  {
   "cell_type": "code",
   "execution_count": 9,
   "id": "e2311ab5",
   "metadata": {},
   "outputs": [
    {
     "name": "stdout",
     "output_type": "stream",
     "text": [
      "1\n"
     ]
    }
   ],
   "source": [
    "print(train_labels[0])"
   ]
  },
  {
   "cell_type": "code",
   "execution_count": 10,
   "id": "a283418d",
   "metadata": {},
   "outputs": [
    {
     "data": {
      "text/plain": [
       "9999"
      ]
     },
     "execution_count": 10,
     "metadata": {},
     "output_type": "execute_result"
    }
   ],
   "source": [
    "max([max(sequence) for sequence in train_data]) #Limited to no more than 10k words"
   ]
  },
  {
   "cell_type": "markdown",
   "id": "9a61615b",
   "metadata": {},
   "source": [
    "__Decoding__"
   ]
  },
  {
   "cell_type": "code",
   "execution_count": 15,
   "id": "57a9d643",
   "metadata": {},
   "outputs": [
    {
     "name": "stdout",
     "output_type": "stream",
     "text": [
      "Downloading data from https://s3.amazonaws.com/text-datasets/imdb_word_index.json\n",
      "1646592/1641221 [==============================] - 1s 0us/step\n"
     ]
    }
   ],
   "source": [
    "word_index = imdb.get_word_index()\n",
    "reverse_word_index = dict( [(value, key) for (key, value) in word_index.items()])\n",
    "\n",
    "decoded_review = ' '.join(\n",
    "    [reverse_word_index.get(i - 3, '?') for i in train_data[0]])"
   ]
  },
  {
   "cell_type": "code",
   "execution_count": 17,
   "id": "4dda5ac1",
   "metadata": {},
   "outputs": [
    {
     "data": {
      "text/plain": [
       "'?'"
      ]
     },
     "execution_count": 17,
     "metadata": {},
     "output_type": "execute_result"
    }
   ],
   "source": [
    "decoded_review["
   ]
  },
  {
   "cell_type": "code",
   "execution_count": 25,
   "id": "7d432629",
   "metadata": {},
   "outputs": [
    {
     "data": {
      "text/plain": [
       "\"? this film was just brilliant casting location scenery story direction everyone's really suited the part they played and you could just imagine being there robert ? is an amazing actor and now the same being director ? father came from the same scottish island as myself so i loved the fact there was a real connection with this film the witty remarks throughout the film were great it was just brilliant so much that i bought the film as soon as it was released for ? and would recommend it to everyone to watch and the fly fishing was amazing really cried at the end it was so sad and you know what they say if you cry at a film it must have been good and this definitely was also ? to the two little boy's that played the ? of norman and paul they were just brilliant children are often left out of the ? list i think because the stars that play them all grown up are such a big profile for the whole film but these children are amazing and should be praised for what they have done don't you think the whole story was so lovely because it was true and was someone's life after all that was shared with us all\""
      ]
     },
     "execution_count": 25,
     "metadata": {},
     "output_type": "execute_result"
    }
   ],
   "source": [
    "decoded_review"
   ]
  },
  {
   "cell_type": "markdown",
   "id": "eba3034b",
   "metadata": {},
   "source": [
    "__prepping__"
   ]
  },
  {
   "cell_type": "code",
   "execution_count": 26,
   "id": "5c8f8736",
   "metadata": {},
   "outputs": [],
   "source": [
    "import numpy as np\n",
    "\n",
    "##############################\n",
    "def vectorize_sequences(sequences, dimension=10000):\n",
    "    results = np.zeros((len(sequences), dimension))\n",
    "    for i, sequence in enumerate(sequences):\n",
    "        results[i, sequence] = 1.\n",
    "    return results\n",
    "#####\n",
    "x_train = vectorize_sequences(train_data)\n",
    "x_test = vectorize_sequences(test_data)"
   ]
  },
  {
   "cell_type": "markdown",
   "id": "490c3452",
   "metadata": {},
   "source": [
    "__encoding the integer sequences into a binary matrix__"
   ]
  },
  {
   "cell_type": "code",
   "execution_count": 39,
   "id": "8225ad12",
   "metadata": {},
   "outputs": [],
   "source": [
    "y_train = np.asarray(train_labels).astype('float32')\n",
    "y_test = np.asarray(test_labels).astype('float32')"
   ]
  },
  {
   "cell_type": "markdown",
   "id": "9b009db8",
   "metadata": {},
   "source": [
    "__model definition__"
   ]
  },
  {
   "cell_type": "code",
   "execution_count": 33,
   "id": "ca9c0a81",
   "metadata": {},
   "outputs": [],
   "source": [
    "from keras import models\n",
    "from keras import layers\n",
    "model = models.Sequential()\n",
    "model.add(layers.Dense(16, activation='relu', input_shape=(10000,)))\n",
    "model.add(layers.Dense(16, activation='relu'))\n",
    "model.add(layers.Dense(1, activation='sigmoid'))"
   ]
  },
  {
   "cell_type": "markdown",
   "id": "49edd8b8",
   "metadata": {},
   "source": [
    "__compile model__"
   ]
  },
  {
   "cell_type": "code",
   "execution_count": 34,
   "id": "1d3a6130",
   "metadata": {},
   "outputs": [],
   "source": [
    "model.compile(optimizer='rmsprop',\n",
    "                      loss='binary_crossentropy',\n",
    "                      metrics=['accuracy'])"
   ]
  },
  {
   "cell_type": "markdown",
   "id": "ec3c0a1a",
   "metadata": {},
   "source": [
    "Two alternative to compile the model:\n",
    "\n",
    "\n",
    "```python\n",
    "from keras import optimizers\n",
    "model.compile(optimizer=optimizers.RMSprop(lr=0.001),\n",
    "    loss='binary_crossentropy',\n",
    "    metrics=['accuracy'])\n",
    "```\n",
    "\n",
    "\n",
    "```python\n",
    "from keras import losses\n",
    "from keras import metrics\n",
    "model.compile(optimizer=optimizers.RMSprop(lr=0.001),\n",
    "    loss=losses.binary_crossentropy,\n",
    "    metrics=[metrics.binary_accuracy])\n",
    "```        "
   ]
  },
  {
   "cell_type": "markdown",
   "id": "349df80a",
   "metadata": {},
   "source": [
    "__prepare validation set__"
   ]
  },
  {
   "cell_type": "code",
   "execution_count": 40,
   "id": "54b8b373",
   "metadata": {},
   "outputs": [],
   "source": [
    "x_val = x_train[:10000]\n",
    "partial_x_train = x_train[10000:]\n",
    "y_val = y_train[:10000]\n",
    "partial_y_train = y_train[10000:]"
   ]
  },
  {
   "cell_type": "markdown",
   "id": "96de294e",
   "metadata": {},
   "source": [
    "__train model__"
   ]
  },
  {
   "cell_type": "code",
   "execution_count": 42,
   "id": "2d2eed8c",
   "metadata": {},
   "outputs": [],
   "source": [
    "model.compile(optimizer='rmsprop',\n",
    "    loss='binary_crossentropy',\n",
    "    metrics=['acc'])"
   ]
  },
  {
   "cell_type": "code",
   "execution_count": 41,
   "id": "8e469b8a",
   "metadata": {},
   "outputs": [
    {
     "name": "stdout",
     "output_type": "stream",
     "text": [
      "Train on 15000 samples, validate on 10000 samples\n",
      "Epoch 1/20\n",
      "15000/15000 [==============================] - 2s 131us/step - loss: 0.5815 - acc: 0.7834 - val_loss: 0.4783 - val_acc: 0.8447\n",
      "Epoch 2/20\n",
      "15000/15000 [==============================] - 1s 48us/step - loss: 0.3926 - acc: 0.8893 - val_loss: 0.3674 - val_acc: 0.8725\n",
      "Epoch 3/20\n",
      "15000/15000 [==============================] - 1s 44us/step - loss: 0.2835 - acc: 0.9139 - val_loss: 0.3029 - val_acc: 0.8874\n",
      "Epoch 4/20\n",
      "15000/15000 [==============================] - 1s 44us/step - loss: 0.2190 - acc: 0.9303 - val_loss: 0.2905 - val_acc: 0.8852\n",
      "Epoch 5/20\n",
      "15000/15000 [==============================] - 1s 45us/step - loss: 0.1754 - acc: 0.9437 - val_loss: 0.3078 - val_acc: 0.8747\n",
      "Epoch 6/20\n",
      "15000/15000 [==============================] - 1s 43us/step - loss: 0.1484 - acc: 0.9519 - val_loss: 0.2912 - val_acc: 0.8831\n",
      "Epoch 7/20\n",
      "15000/15000 [==============================] - 1s 41us/step - loss: 0.1238 - acc: 0.9618 - val_loss: 0.2867 - val_acc: 0.8880\n",
      "Epoch 8/20\n",
      "15000/15000 [==============================] - 1s 42us/step - loss: 0.1050 - acc: 0.9680 - val_loss: 0.3013 - val_acc: 0.8860\n",
      "Epoch 9/20\n",
      "15000/15000 [==============================] - 1s 41us/step - loss: 0.0888 - acc: 0.9743 - val_loss: 0.3189 - val_acc: 0.8828\n",
      "Epoch 10/20\n",
      "15000/15000 [==============================] - 1s 42us/step - loss: 0.0747 - acc: 0.9797 - val_loss: 0.3529 - val_acc: 0.8821\n",
      "Epoch 11/20\n",
      "15000/15000 [==============================] - 1s 43us/step - loss: 0.0629 - acc: 0.9841 - val_loss: 0.3738 - val_acc: 0.8755\n",
      "Epoch 12/20\n",
      "15000/15000 [==============================] - 1s 42us/step - loss: 0.0525 - acc: 0.9877 - val_loss: 0.4393 - val_acc: 0.8719\n",
      "Epoch 13/20\n",
      "15000/15000 [==============================] - 1s 42us/step - loss: 0.0439 - acc: 0.9903 - val_loss: 0.4701 - val_acc: 0.8710\n",
      "Epoch 14/20\n",
      "15000/15000 [==============================] - 1s 43us/step - loss: 0.0364 - acc: 0.9919 - val_loss: 0.4523 - val_acc: 0.8698\n",
      "Epoch 15/20\n",
      "15000/15000 [==============================] - 1s 50us/step - loss: 0.0305 - acc: 0.9940 - val_loss: 0.4897 - val_acc: 0.8655\n",
      "Epoch 16/20\n",
      "15000/15000 [==============================] - 1s 49us/step - loss: 0.0242 - acc: 0.9955 - val_loss: 0.5143 - val_acc: 0.8715\n",
      "Epoch 17/20\n",
      "15000/15000 [==============================] - 1s 55us/step - loss: 0.0195 - acc: 0.9967 - val_loss: 0.5565 - val_acc: 0.8656\n",
      "Epoch 18/20\n",
      "15000/15000 [==============================] - 1s 44us/step - loss: 0.0145 - acc: 0.9982 - val_loss: 0.6022 - val_acc: 0.8601\n",
      "Epoch 19/20\n",
      "15000/15000 [==============================] - 1s 47us/step - loss: 0.0124 - acc: 0.9988 - val_loss: 0.6186 - val_acc: 0.8675\n",
      "Epoch 20/20\n",
      "15000/15000 [==============================] - 1s 58us/step - loss: 0.0093 - acc: 0.9992 - val_loss: 0.6567 - val_acc: 0.8669\n"
     ]
    }
   ],
   "source": [
    "history = model.fit(partial_x_train,\n",
    "    partial_y_train,\n",
    "    epochs=20,\n",
    "    batch_size=512,\n",
    "    validation_data=(x_val, y_val))"
   ]
  },
  {
   "cell_type": "code",
   "execution_count": 43,
   "id": "6abe618b",
   "metadata": {},
   "outputs": [
    {
     "data": {
      "text/plain": [
       "dict_keys(['val_loss', 'val_acc', 'loss', 'acc'])"
      ]
     },
     "execution_count": 43,
     "metadata": {},
     "output_type": "execute_result"
    }
   ],
   "source": [
    "history_dict = history.history\n",
    "history_dict.keys()"
   ]
  },
  {
   "cell_type": "markdown",
   "id": "05f33d3a",
   "metadata": {},
   "source": [
    "__plotting the training and validation loss__"
   ]
  },
  {
   "cell_type": "code",
   "execution_count": 45,
   "id": "c532c83d",
   "metadata": {},
   "outputs": [
    {
     "data": {
      "image/png": "[encoded data removed]",
      "text/plain": [
       "<Figure size 640x480 with 1 Axes>"
      ]
     },
     "metadata": {},
     "output_type": "display_data"
    }
   ],
   "source": [
    "import matplotlib.pyplot as plt\n",
    "history_dict = history.history\n",
    "loss_values = history_dict[\"loss\"]\n",
    "val_loss_values = history_dict[\"val_loss\"]\n",
    "epochs = range(1, len(loss_values) + 1)\n",
    "plt.plot(epochs, loss_values, \"bo\", label=\"Training loss\")\n",
    "plt.plot(epochs, val_loss_values, \"b\", label=\"Validation loss\")\n",
    "plt.title(\"Training and validation loss\")\n",
    "plt.xlabel(\"Epochs\")\n",
    "plt.ylabel(\"Loss\")\n",
    "plt.legend()\n",
    "plt.show()"
   ]
  },
  {
   "cell_type": "markdown",
   "id": "60fedf53",
   "metadata": {},
   "source": [
    "__plotting the training and validation accuracy__"
   ]
  },
  {
   "cell_type": "code",
   "execution_count": 49,
   "id": "f6a1b8bd",
   "metadata": {},
   "outputs": [
    {
     "data": {
      "text/plain": [
       "dict_keys(['val_loss', 'val_acc', 'loss', 'acc'])"
      ]
     },
     "execution_count": 49,
     "metadata": {},
     "output_type": "execute_result"
    }
   ],
   "source": [
    "history_dict.keys()"
   ]
  },
  {
   "cell_type": "code",
   "execution_count": null,
   "id": "98b1e192",
   "metadata": {},
   "outputs": [],
   "source": [
    "plt.clf()\n",
    "acc = history.history['accuracy']\n",
    "val_acc = history.history['val_accuracy']\n",
    "plt.plot(epochs, acc, 'bo', label='Training acc')\n",
    "plt.plot(epochs, val_acc, 'b', label='Validation acc')\n",
    "plt.title('Training and validation accuracy')\n",
    "plt.xlabel('Epochs')\n",
    "plt.ylabel('Loss')\n",
    "plt.legend()\n",
    "plt.show()"
   ]
  },
  {
   "cell_type": "markdown",
   "id": "27ac076e",
   "metadata": {},
   "source": [
    "__retraining a model from scratch__\n",
    "\n",
    "With only 4 epochs"
   ]
  },
  {
   "cell_type": "code",
   "execution_count": 53,
   "id": "e8296d9e",
   "metadata": {},
   "outputs": [
    {
     "name": "stdout",
     "output_type": "stream",
     "text": [
      "Epoch 1/4\n",
      "25000/25000 [==============================] - 2s 76us/step - loss: 0.4871 - accuracy: 0.8176\n",
      "Epoch 2/4\n",
      "25000/25000 [==============================] - 1s 33us/step - loss: 0.2801 - accuracy: 0.9051\n",
      "Epoch 3/4\n",
      "25000/25000 [==============================] - ETA: 0s - loss: 0.2135 - accuracy: 0.92 - 1s 33us/step - loss: 0.2132 - accuracy: 0.9253\n",
      "Epoch 4/4\n",
      "25000/25000 [==============================] - 1s 31us/step - loss: 0.1772 - accuracy: 0.9370\n",
      "25000/25000 [==============================] - 2s 87us/step\n"
     ]
    }
   ],
   "source": [
    "model = models.Sequential()\n",
    "model.add(layers.Dense(16, activation='relu', input_shape=(10000,)))\n",
    "model.add(layers.Dense(16, activation='relu'))\n",
    "model.add(layers.Dense(1, activation='sigmoid'))\n",
    "model.compile(optimizer='rmsprop',\n",
    "              loss='binary_crossentropy',\n",
    "              metrics=['accuracy'])\n",
    "model.fit(x_train, y_train, epochs=4, batch_size=512)\n",
    "results = model.evaluate(x_test, y_test)"
   ]
  },
  {
   "cell_type": "code",
   "execution_count": 54,
   "id": "67ac90f3",
   "metadata": {},
   "outputs": [
    {
     "data": {
      "text/plain": [
       "[0.28403809337615965, 0.8867599964141846]"
      ]
     },
     "execution_count": 54,
     "metadata": {},
     "output_type": "execute_result"
    }
   ],
   "source": [
    "results"
   ]
  },
  {
   "cell_type": "markdown",
   "id": "f01184ac",
   "metadata": {},
   "source": [
    "__using a trained network to generate predictions on new data__"
   ]
  },
  {
   "cell_type": "code",
   "execution_count": 55,
   "id": "a4ca5e6d",
   "metadata": {},
   "outputs": [
    {
     "data": {
      "text/plain": [
       "array([[0.20743391],\n",
       "       [0.99987626],\n",
       "       [0.8853257 ],\n",
       "       ...,\n",
       "       [0.13498804],\n",
       "       [0.08877769],\n",
       "       [0.64741874]], dtype=float32)"
      ]
     },
     "execution_count": 55,
     "metadata": {},
     "output_type": "execute_result"
    }
   ],
   "source": [
    "model.predict(x_test)"
   ]
  },
  {
   "cell_type": "markdown",
   "id": "d6c35083",
   "metadata": {},
   "source": [
    "# The Reuters dataset"
   ]
  },
  {
   "cell_type": "code",
   "execution_count": 56,
   "id": "7b0a88a0",
   "metadata": {},
   "outputs": [
    {
     "name": "stdout",
     "output_type": "stream",
     "text": [
      "Downloading data from https://s3.amazonaws.com/text-datasets/reuters.npz\n",
      "2113536/2110848 [==============================] - 1s 0us/step\n"
     ]
    },
    {
     "name": "stderr",
     "output_type": "stream",
     "text": [
      "/Users/leonjdaeim/opt/miniconda3/envs/deeplearn/lib/python3.7/site-packages/keras/datasets/reuters.py:85: VisibleDeprecationWarning: Creating an ndarray from ragged nested sequences (which is a list-or-tuple of lists-or-tuples-or ndarrays with different lengths or shapes) is deprecated. If you meant to do this, you must specify 'dtype=object' when creating the ndarray.\n",
      "  x_train, y_train = np.array(xs[:idx]), np.array(labels[:idx])\n",
      "/Users/leonjdaeim/opt/miniconda3/envs/deeplearn/lib/python3.7/site-packages/keras/datasets/reuters.py:86: VisibleDeprecationWarning: Creating an ndarray from ragged nested sequences (which is a list-or-tuple of lists-or-tuples-or ndarrays with different lengths or shapes) is deprecated. If you meant to do this, you must specify 'dtype=object' when creating the ndarray.\n",
      "  x_test, y_test = np.array(xs[idx:]), np.array(labels[idx:])\n"
     ]
    }
   ],
   "source": [
    "from keras.datasets import reuters\n",
    "(train_data, train_labels), (test_data, test_labels) = reuters.load_data(\n",
    "    num_words=10000)"
   ]
  },
  {
   "cell_type": "code",
   "execution_count": 57,
   "id": "c319f45d",
   "metadata": {},
   "outputs": [
    {
     "data": {
      "text/plain": [
       "(8982, 2246)"
      ]
     },
     "execution_count": 57,
     "metadata": {},
     "output_type": "execute_result"
    }
   ],
   "source": [
    "len(train_data), len(test_data)"
   ]
  },
  {
   "cell_type": "code",
   "execution_count": 61,
   "id": "f5910dc4",
   "metadata": {},
   "outputs": [
    {
     "data": {
      "text/plain": [
       "'? ? ? said as a result of its december acquisition of space co it expects earnings per share in 1987 of 1 15 to 1 30 dlrs per share up from 70 cts in 1986 the company said pretax net should rise to nine to 10 mln dlrs from six mln dlrs in 1986 and rental operation revenues to 19 to 22 mln dlrs from 12 5 mln dlrs it said cash flow per share this year should be 2 50 to three dlrs reuter 3'"
      ]
     },
     "execution_count": 61,
     "metadata": {},
     "output_type": "execute_result"
    }
   ],
   "source": [
    "word_index = reuters.get_word_index()\n",
    "reverse_word_index = dict([(value, key) for (key, value) in word_index.items()])\n",
    "decoded_newswire = ' '.join([reverse_word_index.get(i - 3, '?') for i in train_data[0]])\n",
    "decoded_newswire"
   ]
  },
  {
   "cell_type": "code",
   "execution_count": 62,
   "id": "0381a71e",
   "metadata": {},
   "outputs": [],
   "source": [
    "import numpy as np\n",
    "def vectorize_sequences(sequences, dimension=10000):\n",
    "    results = np.zeros((len(sequences), dimension))\n",
    "    for i, sequence in enumerate(sequences):\n",
    "        results[i, sequence] = 1.\n",
    "    return results"
   ]
  },
  {
   "cell_type": "code",
   "execution_count": 64,
   "id": "278b27ae",
   "metadata": {},
   "outputs": [],
   "source": [
    "x_train = vectorize_sequences(train_data)\n",
    "x_test = vectorize_sequences(test_data)"
   ]
  },
  {
   "cell_type": "code",
   "execution_count": 69,
   "id": "c94cd214",
   "metadata": {},
   "outputs": [],
   "source": [
    "from keras.utils.np_utils import to_categorical\n",
    "one_hot_train_labels = to_categorical(train_labels)\n",
    "one_hot_test_labels = to_categorical(test_labels)\n"
   ]
  },
  {
   "cell_type": "code",
   "execution_count": 65,
   "id": "7dddb0d5",
   "metadata": {},
   "outputs": [],
   "source": [
    "from keras import models\n",
    "from keras import layers\n",
    "model = models.Sequential()\n",
    "model.add(layers.Dense(64, activation='relu', input_shape=(10000,)))\n",
    "model.add(layers.Dense(64, activation='relu'))\n",
    "model.add(layers.Dense(46, activation='softmax'))"
   ]
  },
  {
   "cell_type": "code",
   "execution_count": 66,
   "id": "a3d2246b",
   "metadata": {},
   "outputs": [],
   "source": [
    "model.compile(optimizer='rmsprop',\n",
    "              loss='categorical_crossentropy',\n",
    "              metrics=['accuracy'])"
   ]
  },
  {
   "cell_type": "code",
   "execution_count": 70,
   "id": "4d0a2a00",
   "metadata": {},
   "outputs": [],
   "source": [
    "x_val = x_train[:1000]\n",
    "partial_x_train = x_train[1000:]\n",
    "y_val = one_hot_train_labels[:1000]\n",
    "partial_y_train = one_hot_train_labels[1000:]"
   ]
  },
  {
   "cell_type": "markdown",
   "id": "f51f3077",
   "metadata": {},
   "source": [
    "__train the model__"
   ]
  },
  {
   "cell_type": "code",
   "execution_count": 71,
   "id": "77384d72",
   "metadata": {},
   "outputs": [
    {
     "name": "stdout",
     "output_type": "stream",
     "text": [
      "Train on 7982 samples, validate on 1000 samples\n",
      "Epoch 1/20\n",
      "7982/7982 [==============================] - 1s 145us/step - loss: 2.6889 - accuracy: 0.4539 - val_loss: 1.8008 - val_accuracy: 0.6330\n",
      "Epoch 2/20\n",
      "7982/7982 [==============================] - 1s 64us/step - loss: 1.4567 - accuracy: 0.7063 - val_loss: 1.3128 - val_accuracy: 0.7270\n",
      "Epoch 3/20\n",
      "7982/7982 [==============================] - 0s 60us/step - loss: 1.0597 - accuracy: 0.7741 - val_loss: 1.1312 - val_accuracy: 0.7600\n",
      "Epoch 4/20\n",
      "7982/7982 [==============================] - 0s 57us/step - loss: 0.8330 - accuracy: 0.8200 - val_loss: 1.0685 - val_accuracy: 0.7720\n",
      "Epoch 5/20\n",
      "7982/7982 [==============================] - 0s 58us/step - loss: 0.6657 - accuracy: 0.8530 - val_loss: 0.9879 - val_accuracy: 0.7960\n",
      "Epoch 6/20\n",
      "7982/7982 [==============================] - 0s 60us/step - loss: 0.5371 - accuracy: 0.8842 - val_loss: 0.9268 - val_accuracy: 0.8070\n",
      "Epoch 7/20\n",
      "7982/7982 [==============================] - 0s 59us/step - loss: 0.4344 - accuracy: 0.9064 - val_loss: 0.9006 - val_accuracy: 0.8140\n",
      "Epoch 8/20\n",
      "7982/7982 [==============================] - 0s 61us/step - loss: 0.3533 - accuracy: 0.9263 - val_loss: 0.9302 - val_accuracy: 0.8100\n",
      "Epoch 9/20\n",
      "7982/7982 [==============================] - 0s 59us/step - loss: 0.2895 - accuracy: 0.9356 - val_loss: 0.9017 - val_accuracy: 0.8160\n",
      "Epoch 10/20\n",
      "7982/7982 [==============================] - 0s 57us/step - loss: 0.2464 - accuracy: 0.9429 - val_loss: 0.9067 - val_accuracy: 0.8210\n",
      "Epoch 11/20\n",
      "7982/7982 [==============================] - 0s 57us/step - loss: 0.2140 - accuracy: 0.9464 - val_loss: 0.9291 - val_accuracy: 0.8170\n",
      "Epoch 12/20\n",
      "7982/7982 [==============================] - 0s 56us/step - loss: 0.1861 - accuracy: 0.9516 - val_loss: 0.9114 - val_accuracy: 0.8150\n",
      "Epoch 13/20\n",
      "7982/7982 [==============================] - 0s 56us/step - loss: 0.1684 - accuracy: 0.9508 - val_loss: 0.9391 - val_accuracy: 0.8150\n",
      "Epoch 14/20\n",
      "7982/7982 [==============================] - 0s 57us/step - loss: 0.1532 - accuracy: 0.9559 - val_loss: 1.0282 - val_accuracy: 0.7890\n",
      "Epoch 15/20\n",
      "7982/7982 [==============================] - 0s 56us/step - loss: 0.1465 - accuracy: 0.9551 - val_loss: 0.9833 - val_accuracy: 0.8120\n",
      "Epoch 16/20\n",
      "7982/7982 [==============================] - 0s 56us/step - loss: 0.1309 - accuracy: 0.9565 - val_loss: 1.0403 - val_accuracy: 0.8000\n",
      "Epoch 17/20\n",
      "7982/7982 [==============================] - 0s 56us/step - loss: 0.1259 - accuracy: 0.9570 - val_loss: 1.0554 - val_accuracy: 0.8010\n",
      "Epoch 18/20\n",
      "7982/7982 [==============================] - 0s 56us/step - loss: 0.1189 - accuracy: 0.9563 - val_loss: 1.0326 - val_accuracy: 0.8080\n",
      "Epoch 19/20\n",
      "7982/7982 [==============================] - 0s 59us/step - loss: 0.1180 - accuracy: 0.9572 - val_loss: 1.1064 - val_accuracy: 0.7950\n",
      "Epoch 20/20\n",
      "7982/7982 [==============================] - 0s 57us/step - loss: 0.1144 - accuracy: 0.9543 - val_loss: 1.1048 - val_accuracy: 0.8000\n"
     ]
    }
   ],
   "source": [
    "history = model.fit(partial_x_train,\n",
    "                    partial_y_train,\n",
    "                    epochs=20,\n",
    "                    batch_size=512,\n",
    "                    validation_data=(x_val, y_val))\n"
   ]
  },
  {
   "cell_type": "code",
   "execution_count": 72,
   "id": "8442f2e6",
   "metadata": {},
   "outputs": [
    {
     "data": {
      "image/png": "[encoded data removed]",
      "text/plain": [
       "<Figure size 640x480 with 1 Axes>"
      ]
     },
     "metadata": {},
     "output_type": "display_data"
    }
   ],
   "source": [
    "import matplotlib.pyplot as plt\n",
    "loss = history.history['loss']\n",
    "val_loss = history.history['val_loss']\n",
    "epochs = range(1, len(loss) + 1)\n",
    "plt.plot(epochs, loss, 'bo', label='Training loss')\n",
    "plt.plot(epochs, val_loss, 'b', label='Validation loss')\n",
    "plt.title('Training and validation loss')\n",
    "plt.xlabel('Epochs')\n",
    "plt.ylabel('Loss')\n",
    "plt.legend()\n",
    "plt.show()"
   ]
  },
  {
   "cell_type": "code",
   "execution_count": 77,
   "id": "b4c44b9f",
   "metadata": {},
   "outputs": [
    {
     "data": {
      "text/plain": [
       "dict_keys(['val_loss', 'val_accuracy', 'loss', 'accuracy'])"
      ]
     },
     "execution_count": 77,
     "metadata": {},
     "output_type": "execute_result"
    }
   ],
   "source": [
    "history.history.keys()"
   ]
  },
  {
   "cell_type": "code",
   "execution_count": 79,
   "id": "3f9d0b25",
   "metadata": {},
   "outputs": [
    {
     "data": {
      "image/png": "[encoded data removed]",
      "text/plain": [
       "<Figure size 640x480 with 1 Axes>"
      ]
     },
     "metadata": {},
     "output_type": "display_data"
    }
   ],
   "source": [
    "plt.clf()\n",
    "acc = history.history['accuracy']\n",
    "val_acc = history.history['val_accuracy']\n",
    "plt.plot(epochs, acc, 'bo', label='Training acc')\n",
    "plt.plot(epochs, val_acc, 'b', label='Validation acc')\n",
    "plt.title('Training and validation accuracy')\n",
    "plt.xlabel('Epochs')\n",
    "plt.ylabel('Loss')\n",
    "plt.legend()\n",
    "plt.show()"
   ]
  },
  {
   "cell_type": "markdown",
   "id": "bfbc4a78",
   "metadata": {},
   "source": [
    "__retrain__\n",
    "\n",
    "Since the network begins to overfit after 9 epochs, try a new network from scratch and do only 9"
   ]
  },
  {
   "cell_type": "code",
   "execution_count": 81,
   "id": "abc91d2d",
   "metadata": {},
   "outputs": [
    {
     "name": "stdout",
     "output_type": "stream",
     "text": [
      "Train on 7982 samples, validate on 1000 samples\n",
      "Epoch 1/9\n",
      "7982/7982 [==============================] - 1s 120us/step - loss: 2.5561 - accuracy: 0.5474 - val_loss: 1.6719 - val_accuracy: 0.6520\n",
      "Epoch 2/9\n",
      "7982/7982 [==============================] - 0s 57us/step - loss: 1.3910 - accuracy: 0.7067 - val_loss: 1.2970 - val_accuracy: 0.7150\n",
      "Epoch 3/9\n",
      "7982/7982 [==============================] - 0s 56us/step - loss: 1.0508 - accuracy: 0.7744 - val_loss: 1.1543 - val_accuracy: 0.7430\n",
      "Epoch 4/9\n",
      "7982/7982 [==============================] - 0s 57us/step - loss: 0.8338 - accuracy: 0.8276 - val_loss: 1.0634 - val_accuracy: 0.7690\n",
      "Epoch 5/9\n",
      "7982/7982 [==============================] - 0s 58us/step - loss: 0.6678 - accuracy: 0.8623 - val_loss: 1.0122 - val_accuracy: 0.7940\n",
      "Epoch 6/9\n",
      "7982/7982 [==============================] - 0s 58us/step - loss: 0.5335 - accuracy: 0.8913 - val_loss: 0.9600 - val_accuracy: 0.8050\n",
      "Epoch 7/9\n",
      "7982/7982 [==============================] - 0s 60us/step - loss: 0.4314 - accuracy: 0.9100 - val_loss: 0.9174 - val_accuracy: 0.8140\n",
      "Epoch 8/9\n",
      "7982/7982 [==============================] - 1s 63us/step - loss: 0.3508 - accuracy: 0.9252 - val_loss: 0.9232 - val_accuracy: 0.7950\n",
      "Epoch 9/9\n",
      "7982/7982 [==============================] - 0s 58us/step - loss: 0.2927 - accuracy: 0.9327 - val_loss: 0.9317 - val_accuracy: 0.7980\n",
      "2246/2246 [==============================] - 0s 143us/step\n"
     ]
    }
   ],
   "source": [
    "model = models.Sequential()\n",
    "model.add(layers.Dense(64, activation='relu', input_shape=(10000,)))\n",
    "model.add(layers.Dense(64, activation='relu'))\n",
    "model.add(layers.Dense(46, activation='softmax'))\n",
    "model.compile(optimizer='rmsprop',\n",
    "              loss='categorical_crossentropy',\n",
    "              metrics=['accuracy'])\n",
    "model.fit(partial_x_train,\n",
    "          partial_y_train,\n",
    "          epochs=9,\n",
    "          batch_size=512,\n",
    "          validation_data=(x_val, y_val))\n",
    "results = model.evaluate(x_test, one_hot_test_labels)\n"
   ]
  },
  {
   "cell_type": "code",
   "execution_count": 82,
   "id": "0d6d13de",
   "metadata": {},
   "outputs": [
    {
     "data": {
      "text/plain": [
       "[1.0007840368435623, 0.7876224517822266]"
      ]
     },
     "execution_count": 82,
     "metadata": {},
     "output_type": "execute_result"
    }
   ],
   "source": [
    "results #Accuracy is ~80%"
   ]
  },
  {
   "cell_type": "code",
   "execution_count": 83,
   "id": "5a7b7e6f",
   "metadata": {},
   "outputs": [
    {
     "data": {
      "text/plain": [
       "0.18210151380231523"
      ]
     },
     "execution_count": 83,
     "metadata": {},
     "output_type": "execute_result"
    }
   ],
   "source": [
    "### Accuracy's random chance would be 50% in a naive classifier\n",
    "# Here is ~20%\n",
    "import copy\n",
    "test_labels_copy = copy.copy(test_labels)\n",
    "np.random.shuffle(test_labels_copy)\n",
    "hits_array = np.array(test_labels) == np.array(test_labels_copy)\n",
    "float(np.sum(hits_array)) / len(test_labels)"
   ]
  },
  {
   "cell_type": "markdown",
   "id": "7b589cf2",
   "metadata": {},
   "source": [
    "__use the model to predict on unseen data__"
   ]
  },
  {
   "cell_type": "code",
   "execution_count": 84,
   "id": "77bae888",
   "metadata": {},
   "outputs": [],
   "source": [
    "predictions = model.predict(x_test)"
   ]
  },
  {
   "cell_type": "code",
   "execution_count": 85,
   "id": "a5da0dc2",
   "metadata": {},
   "outputs": [
    {
     "data": {
      "text/plain": [
       "(46,)"
      ]
     },
     "execution_count": 85,
     "metadata": {},
     "output_type": "execute_result"
    }
   ],
   "source": [
    "predictions[0].shape"
   ]
  },
  {
   "cell_type": "code",
   "execution_count": 86,
   "id": "5ea38d27",
   "metadata": {},
   "outputs": [
    {
     "data": {
      "text/plain": [
       "1.0"
      ]
     },
     "execution_count": 86,
     "metadata": {},
     "output_type": "execute_result"
    }
   ],
   "source": [
    "np.sum(predictions[0])"
   ]
  },
  {
   "cell_type": "markdown",
   "id": "1eb2f14b",
   "metadata": {},
   "source": [
    "__alternatives to handle labels and loss__"
   ]
  },
  {
   "cell_type": "code",
   "execution_count": 88,
   "id": "d4e36321",
   "metadata": {},
   "outputs": [],
   "source": [
    "y_train = np.array(train_labels)\n",
    "y_test = np.array(test_labels)"
   ]
  },
  {
   "cell_type": "code",
   "execution_count": 91,
   "id": "1eb0007a",
   "metadata": {},
   "outputs": [],
   "source": [
    "model.compile(optimizer='rmsprop',\n",
    "              loss='sparse_categorical_crossentropy',\n",
    "              metrics=['acc'])"
   ]
  },
  {
   "cell_type": "markdown",
   "id": "f3066826",
   "metadata": {},
   "source": [
    "because the final outputs are 46-dimensional, you should avoid intermediate layers with many fewer than 46 hidden units"
   ]
  },
  {
   "cell_type": "code",
   "execution_count": 92,
   "id": "f4cc5f52",
   "metadata": {},
   "outputs": [
    {
     "name": "stdout",
     "output_type": "stream",
     "text": [
      "Train on 7982 samples, validate on 1000 samples\n",
      "Epoch 1/20\n",
      "7982/7982 [==============================] - 2s 190us/step - loss: 2.9958 - accuracy: 0.1878 - val_loss: 2.3294 - val_accuracy: 0.5760\n",
      "Epoch 2/20\n",
      "7982/7982 [==============================] - 1s 125us/step - loss: 1.8573 - accuracy: 0.5770 - val_loss: 1.6707 - val_accuracy: 0.5800\n",
      "Epoch 3/20\n",
      "7982/7982 [==============================] - 1s 119us/step - loss: 1.4567 - accuracy: 0.5905 - val_loss: 1.5437 - val_accuracy: 0.5810\n",
      "Epoch 4/20\n",
      "7982/7982 [==============================] - 1s 120us/step - loss: 1.3014 - accuracy: 0.6062 - val_loss: 1.5067 - val_accuracy: 0.6050\n",
      "Epoch 5/20\n",
      "7982/7982 [==============================] - 1s 119us/step - loss: 1.1859 - accuracy: 0.6733 - val_loss: 1.4602 - val_accuracy: 0.6500\n",
      "Epoch 6/20\n",
      "7982/7982 [==============================] - 1s 120us/step - loss: 1.0902 - accuracy: 0.7236 - val_loss: 1.4606 - val_accuracy: 0.6670\n",
      "Epoch 7/20\n",
      "7982/7982 [==============================] - 1s 121us/step - loss: 1.0166 - accuracy: 0.7434 - val_loss: 1.4519 - val_accuracy: 0.6700\n",
      "Epoch 8/20\n",
      "7982/7982 [==============================] - 1s 120us/step - loss: 0.9564 - accuracy: 0.7514 - val_loss: 1.4776 - val_accuracy: 0.6680\n",
      "Epoch 9/20\n",
      "7982/7982 [==============================] - 1s 123us/step - loss: 0.9087 - accuracy: 0.7548 - val_loss: 1.4988 - val_accuracy: 0.6760\n",
      "Epoch 10/20\n",
      "7982/7982 [==============================] - 1s 123us/step - loss: 0.8685 - accuracy: 0.7572 - val_loss: 1.5411 - val_accuracy: 0.6720\n",
      "Epoch 11/20\n",
      "7982/7982 [==============================] - 1s 121us/step - loss: 0.8335 - accuracy: 0.7630 - val_loss: 1.5826 - val_accuracy: 0.6750\n",
      "Epoch 12/20\n",
      "7982/7982 [==============================] - 1s 123us/step - loss: 0.8037 - accuracy: 0.7701 - val_loss: 1.6395 - val_accuracy: 0.6730\n",
      "Epoch 13/20\n",
      "7982/7982 [==============================] - 1s 122us/step - loss: 0.7742 - accuracy: 0.7734 - val_loss: 1.6456 - val_accuracy: 0.6730\n",
      "Epoch 14/20\n",
      "7982/7982 [==============================] - 1s 121us/step - loss: 0.7493 - accuracy: 0.7796 - val_loss: 1.7230 - val_accuracy: 0.6650\n",
      "Epoch 15/20\n",
      "7982/7982 [==============================] - 1s 122us/step - loss: 0.7281 - accuracy: 0.7853 - val_loss: 1.8103 - val_accuracy: 0.6590\n",
      "Epoch 16/20\n",
      "7982/7982 [==============================] - 1s 125us/step - loss: 0.7061 - accuracy: 0.7935 - val_loss: 1.8479 - val_accuracy: 0.6680\n",
      "Epoch 17/20\n",
      "7982/7982 [==============================] - 1s 123us/step - loss: 0.6885 - accuracy: 0.7939 - val_loss: 1.9843 - val_accuracy: 0.6520\n",
      "Epoch 18/20\n",
      "7982/7982 [==============================] - 1s 122us/step - loss: 0.6689 - accuracy: 0.7964 - val_loss: 2.0021 - val_accuracy: 0.6570\n",
      "Epoch 19/20\n",
      "7982/7982 [==============================] - 1s 120us/step - loss: 0.6567 - accuracy: 0.8028 - val_loss: 2.0833 - val_accuracy: 0.6610\n",
      "Epoch 20/20\n",
      "7982/7982 [==============================] - 1s 120us/step - loss: 0.6393 - accuracy: 0.8107 - val_loss: 2.1351 - val_accuracy: 0.6590\n"
     ]
    },
    {
     "data": {
      "text/plain": [
       "<keras.callbacks.callbacks.History at 0x7f9b1b0caad0>"
      ]
     },
     "execution_count": 92,
     "metadata": {},
     "output_type": "execute_result"
    }
   ],
   "source": [
    "### Introduce a bottleneck: layer of 4\n",
    "model = models.Sequential()\n",
    "model.add(layers.Dense(64, activation='relu', input_shape=(10000,)))\n",
    "model.add(layers.Dense(4, activation='relu'))\n",
    "model.add(layers.Dense(46, activation='softmax'))\n",
    "model.compile(optimizer='rmsprop',\n",
    "              loss='categorical_crossentropy',\n",
    "              metrics=['accuracy'])\n",
    "model.fit(partial_x_train,\n",
    "          partial_y_train,\n",
    "          epochs=20,\n",
    "          batch_size=128,\n",
    "          validation_data=(x_val, y_val))"
   ]
  },
  {
   "cell_type": "markdown",
   "id": "faced7a1",
   "metadata": {},
   "source": [
    "accuracy drops signifcantly, from `0.79` to `0.65`"
   ]
  },
  {
   "cell_type": "markdown",
   "id": "f2719a83",
   "metadata": {},
   "source": [
    "# The Boston Housing Price dataset"
   ]
  },
  {
   "cell_type": "code",
   "execution_count": 1,
   "id": "9a804ff7",
   "metadata": {},
   "outputs": [
    {
     "name": "stderr",
     "output_type": "stream",
     "text": [
      "Using TensorFlow backend.\n"
     ]
    },
    {
     "name": "stdout",
     "output_type": "stream",
     "text": [
      "Downloading data from https://s3.amazonaws.com/keras-datasets/boston_housing.npz\n",
      "57344/57026 [==============================] - 0s 3us/step\n"
     ]
    }
   ],
   "source": [
    "from keras.datasets import boston_housing\n",
    "(train_data, train_targets), (test_data, test_targets) = boston_housing.load_data()"
   ]
  },
  {
   "cell_type": "code",
   "execution_count": 2,
   "id": "6ee59961",
   "metadata": {},
   "outputs": [
    {
     "data": {
      "text/plain": [
       "((404, 13), (102, 13))"
      ]
     },
     "execution_count": 2,
     "metadata": {},
     "output_type": "execute_result"
    }
   ],
   "source": [
    "train_data.shape, test_data.shape"
   ]
  },
  {
   "cell_type": "code",
   "execution_count": 5,
   "id": "431cd78e",
   "metadata": {},
   "outputs": [
    {
     "data": {
      "text/plain": [
       "array([15.2, 42.3, 50. , 21.1, 17.7])"
      ]
     },
     "execution_count": 5,
     "metadata": {},
     "output_type": "execute_result"
    }
   ],
   "source": [
    "## The targets are the median values of owner-occupied homes, in thousands of dollars:\n",
    "train_targets[0:5]"
   ]
  },
  {
   "cell_type": "markdown",
   "id": "afe09478",
   "metadata": {},
   "source": [
    "the quantities used for normalizing the test data are computed using the __training__ data. You should __never__ use in your workflow any quantity computed on the __test__ data, even for something as simple as data normalization."
   ]
  },
  {
   "cell_type": "code",
   "execution_count": 7,
   "id": "c8199236",
   "metadata": {},
   "outputs": [],
   "source": [
    "mean = train_data.mean(axis=0)\n",
    "std = train_data.std(axis=0)\n",
    "\n",
    "train_data -= mean\n",
    "train_data /= std\n",
    "\n",
    "test_data -= mean\n",
    "test_data /= std"
   ]
  },
  {
   "cell_type": "code",
   "execution_count": 9,
   "id": "159fbb71",
   "metadata": {},
   "outputs": [],
   "source": [
    "from keras import models\n",
    "from keras import layers\n",
    "\n",
    "def build_model():\n",
    "    \"\"\"\n",
    "    to instantiate the same model multiple times, use a function to construct it.\n",
    "    \"\"\"\n",
    "    model = models.Sequential()\n",
    "    model.add(layers.Dense(64, activation='relu',\n",
    "                           input_shape=(train_data.shape[1],)))\n",
    "    model.add(layers.Dense(64, activation='relu'))\n",
    "    model.add(layers.Dense(1))\n",
    "    model.compile(optimizer='rmsprop', loss='mse', metrics=['mae'])\n",
    "    return model"
   ]
  },
  {
   "cell_type": "markdown",
   "id": "0d016215",
   "metadata": {},
   "source": [
    "* Network ends with a single unit and no activation (it will be a linear layer). \n",
    "* This is a typical setup for scalar regression (a regression where you’re trying to predict a single continuous value). \n",
    "* Applying an activation function would constrain the range the output can take.\n",
    "    * For instance, if you applied a _sigmoid activation function_ to the last layer, the network could only learn to predict values between 0 and 1."
   ]
  },
  {
   "cell_type": "markdown",
   "id": "2d3321b0",
   "metadata": {},
   "source": [
    "__k-fold validation__"
   ]
  },
  {
   "cell_type": "code",
   "execution_count": 11,
   "id": "c9176263",
   "metadata": {},
   "outputs": [],
   "source": [
    "import numpy as np\n",
    "k=4\n",
    "num_val_samples = len(train_data) // k\n",
    "num_epochs = 100\n",
    "all_scores = []"
   ]
  },
  {
   "cell_type": "code",
   "execution_count": 13,
   "id": "68a830f0",
   "metadata": {},
   "outputs": [
    {
     "name": "stdout",
     "output_type": "stream",
     "text": [
      "processing fold # 0\n",
      "processing fold # 1\n",
      "processing fold # 2\n",
      "processing fold # 3\n"
     ]
    }
   ],
   "source": [
    "for i in range(k):\n",
    "    print('processing fold #', i)\n",
    "    val_data = train_data[i * num_val_samples: (i + 1) * num_val_samples]\n",
    "    val_targets = train_targets[i * num_val_samples: (i + 1) * num_val_samples]\n",
    "    partial_train_data = np.concatenate( [train_data[:i * num_val_samples],\n",
    "                                          train_data[(i + 1) * num_val_samples:]], axis=0)\n",
    "    partial_train_targets = np.concatenate( [train_targets[:i * num_val_samples],\n",
    "                                             train_targets[(i + 1) * num_val_samples:]], axis=0)\n",
    "    model = build_model()\n",
    "    model.fit(partial_train_data, partial_train_targets,\n",
    "              epochs=num_epochs, batch_size=1, verbose=0)\n",
    "    val_mse, val_mae = model.evaluate(val_data, val_targets, verbose=0)\n",
    "    all_scores.append(val_mae)"
   ]
  },
  {
   "cell_type": "code",
   "execution_count": 14,
   "id": "2c305afa",
   "metadata": {},
   "outputs": [
    {
     "data": {
      "text/plain": [
       "[2.034113883972168, 2.4122393131256104, 2.6450040340423584, 2.385136127471924]"
      ]
     },
     "execution_count": 14,
     "metadata": {},
     "output_type": "execute_result"
    }
   ],
   "source": [
    "all_scores"
   ]
  },
  {
   "cell_type": "code",
   "execution_count": 15,
   "id": "eaf36fab",
   "metadata": {},
   "outputs": [
    {
     "data": {
      "text/plain": [
       "2.369123339653015"
      ]
     },
     "execution_count": 15,
     "metadata": {},
     "output_type": "execute_result"
    }
   ],
   "source": [
    "np.mean(all_scores)"
   ]
  },
  {
   "cell_type": "markdown",
   "id": "fc6a9c9b",
   "metadata": {},
   "source": [
    "__save validation logs at each fold__"
   ]
  },
  {
   "cell_type": "code",
   "execution_count": 18,
   "id": "01260758",
   "metadata": {},
   "outputs": [
    {
     "data": {
      "text/plain": [
       "dict_keys(['val_loss', 'val_mae', 'loss', 'mae'])"
      ]
     },
     "execution_count": 18,
     "metadata": {},
     "output_type": "execute_result"
    }
   ],
   "source": [
    "history.history.keys()"
   ]
  },
  {
   "cell_type": "code",
   "execution_count": 30,
   "id": "8473f97b",
   "metadata": {},
   "outputs": [
    {
     "name": "stdout",
     "output_type": "stream",
     "text": [
      "processing fold # 0\n",
      "processing fold # 1\n",
      "processing fold # 2\n",
      "processing fold # 3\n"
     ]
    }
   ],
   "source": [
    "num_epochs = 500\n",
    "all_mae_histories = []\n",
    "for i in range(k):\n",
    "    print('processing fold #', i)\n",
    "    val_data = train_data[i * num_val_samples: (i + 1) * num_val_samples]\n",
    "    val_targets = train_targets[i * num_val_samples: (i + 1) * num_val_samples]\n",
    "    partial_train_data = np.concatenate( [train_data[:i * num_val_samples],\n",
    "                                          train_data[(i + 1) * num_val_samples:]], axis=0)\n",
    "    \n",
    "    \n",
    "    partial_train_targets = np.concatenate( [train_targets[:i * num_val_samples],\n",
    "                                             train_targets[(i + 1) * num_val_samples:]], axis=0)\n",
    "    model = build_model()\n",
    "    history = model.fit(partial_train_data, partial_train_targets,\n",
    "                        validation_data=(val_data, val_targets),\n",
    "                        epochs=num_epochs, batch_size=1, verbose=0)\n",
    "    mae_history = history.history['val_mae']\n",
    "    all_mae_histories.append(mae_history)"
   ]
  },
  {
   "cell_type": "code",
   "execution_count": 35,
   "id": "b2b529b1",
   "metadata": {},
   "outputs": [],
   "source": [
    "average_mae_history = [\n",
    "    np.mean([x[i] for x in all_mae_histories]) for i in range(num_epochs)]"
   ]
  },
  {
   "cell_type": "code",
   "execution_count": 36,
   "id": "7f30b588",
   "metadata": {},
   "outputs": [
    {
     "data": {
      "image/png": "[encoded data removed]",
      "text/plain": [
       "<Figure size 640x480 with 1 Axes>"
      ]
     },
     "metadata": {},
     "output_type": "display_data"
    }
   ],
   "source": [
    "import matplotlib.pyplot as plt\n",
    "plt.plot(range(1, len(average_mae_history) + 1), average_mae_history)\n",
    "plt.xlabel('Epochs')\n",
    "plt.ylabel('Validation MAE')\n",
    "plt.show()"
   ]
  },
  {
   "cell_type": "code",
   "execution_count": 37,
   "id": "f2cd8af6",
   "metadata": {},
   "outputs": [],
   "source": [
    "def smooth_curve(points, factor=0.9):\n",
    "    smoothed_points = []\n",
    "    for point in points:\n",
    "        if smoothed_points:\n",
    "            previous = smoothed_points[-1]\n",
    "            smoothed_points.append(previous * factor + point * (1 - factor))\n",
    "        else:\n",
    "            smoothed_points.append(point)\n",
    "    return smoothed_points"
   ]
  },
  {
   "cell_type": "markdown",
   "id": "962a15a8",
   "metadata": {},
   "source": [
    "validation MAE stops improving significantly after 80 epochs."
   ]
  },
  {
   "cell_type": "code",
   "execution_count": 38,
   "id": "c608e5b1",
   "metadata": {},
   "outputs": [
    {
     "data": {
      "image/png": "[encoded data removed]",
      "text/plain": [
       "<Figure size 640x480 with 1 Axes>"
      ]
     },
     "metadata": {},
     "output_type": "display_data"
    }
   ],
   "source": [
    "smooth_mae_history = smooth_curve(average_mae_history[10:])\n",
    "plt.plot(range(1, len(smooth_mae_history) + 1), smooth_mae_history)\n",
    "plt.xlabel('Epochs')\n",
    "plt.ylabel('Validation MAE')\n",
    "plt.show()"
   ]
  },
  {
   "cell_type": "markdown",
   "id": "f9c03b69",
   "metadata": {},
   "source": [
    "__train final model__"
   ]
  },
  {
   "cell_type": "code",
   "execution_count": 39,
   "id": "961c0253",
   "metadata": {},
   "outputs": [
    {
     "name": "stdout",
     "output_type": "stream",
     "text": [
      "102/102 [==============================] - 0s 560us/step\n"
     ]
    }
   ],
   "source": [
    "model = build_model()\n",
    "model.fit(train_data, train_targets,\n",
    "          epochs=80, batch_size=16, verbose=0)\n",
    "test_mse_score, test_mae_score = model.evaluate(test_data, test_targets)"
   ]
  },
  {
   "cell_type": "code",
   "execution_count": 40,
   "id": "f48d5854",
   "metadata": {},
   "outputs": [
    {
     "data": {
      "text/plain": [
       "2.6786839962005615"
      ]
     },
     "execution_count": 40,
     "metadata": {},
     "output_type": "execute_result"
    }
   ],
   "source": [
    "test_mae_score #Still off by $2,700"
   ]
  },
  {
   "cell_type": "code",
   "execution_count": null,
   "id": "a52d21eb",
   "metadata": {},
   "outputs": [],
   "source": []
  }
 ],
 "metadata": {
  "kernelspec": {
   "display_name": "Python 3",
   "language": "python",
   "name": "python3"
  },
  "language_info": {
   "codemirror_mode": {
    "name": "ipython",
    "version": 3
   },
   "file_extension": ".py",
   "mimetype": "text/x-python",
   "name": "python",
   "nbconvert_exporter": "python",
   "pygments_lexer": "ipython3",
   "version": "3.7.11"
  }
 },
 "nbformat": 4,
 "nbformat_minor": 5
}
